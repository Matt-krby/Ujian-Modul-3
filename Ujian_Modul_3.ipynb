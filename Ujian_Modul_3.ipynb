{
 "cells": [
  {
   "cell_type": "markdown",
   "metadata": {},
   "source": [
    "## Hotel Reservation Cancellation Prediction"
   ]
  },
  {
   "cell_type": "code",
   "execution_count": 1,
   "metadata": {},
   "outputs": [],
   "source": [
    "import pandas as pd\n",
    "import numpy as np\n",
    "import seaborn as sns\n",
    "import matplotlib.pyplot as plt\n",
    "\n",
    "sns.set(rc = {\"figure.figsize\":(11.7, 8.27)})"
   ]
  },
  {
   "cell_type": "code",
   "execution_count": 2,
   "metadata": {},
   "outputs": [],
   "source": [
    "df_original = pd.read_csv('hotel_bookings.csv')"
   ]
  },
  {
   "cell_type": "code",
   "execution_count": 3,
   "metadata": {},
   "outputs": [
    {
     "data": {
      "text/html": [
       "<div>\n",
       "<style scoped>\n",
       "    .dataframe tbody tr th:only-of-type {\n",
       "        vertical-align: middle;\n",
       "    }\n",
       "\n",
       "    .dataframe tbody tr th {\n",
       "        vertical-align: top;\n",
       "    }\n",
       "\n",
       "    .dataframe thead th {\n",
       "        text-align: right;\n",
       "    }\n",
       "</style>\n",
       "<table border=\"1\" class=\"dataframe\">\n",
       "  <thead>\n",
       "    <tr style=\"text-align: right;\">\n",
       "      <th></th>\n",
       "      <th>hotel</th>\n",
       "      <th>is_canceled</th>\n",
       "      <th>lead_time</th>\n",
       "      <th>arrival_date_year</th>\n",
       "      <th>arrival_date_month</th>\n",
       "      <th>arrival_date_week_number</th>\n",
       "      <th>arrival_date_day_of_month</th>\n",
       "      <th>stays_in_weekend_nights</th>\n",
       "      <th>stays_in_week_nights</th>\n",
       "      <th>adults</th>\n",
       "      <th>...</th>\n",
       "      <th>deposit_type</th>\n",
       "      <th>agent</th>\n",
       "      <th>company</th>\n",
       "      <th>days_in_waiting_list</th>\n",
       "      <th>customer_type</th>\n",
       "      <th>adr</th>\n",
       "      <th>required_car_parking_spaces</th>\n",
       "      <th>total_of_special_requests</th>\n",
       "      <th>reservation_status</th>\n",
       "      <th>reservation_status_date</th>\n",
       "    </tr>\n",
       "  </thead>\n",
       "  <tbody>\n",
       "    <tr>\n",
       "      <th>0</th>\n",
       "      <td>Resort Hotel</td>\n",
       "      <td>0</td>\n",
       "      <td>342</td>\n",
       "      <td>2015</td>\n",
       "      <td>July</td>\n",
       "      <td>27</td>\n",
       "      <td>1</td>\n",
       "      <td>0</td>\n",
       "      <td>0</td>\n",
       "      <td>2</td>\n",
       "      <td>...</td>\n",
       "      <td>No Deposit</td>\n",
       "      <td>NaN</td>\n",
       "      <td>NaN</td>\n",
       "      <td>0</td>\n",
       "      <td>Transient</td>\n",
       "      <td>0.0</td>\n",
       "      <td>0</td>\n",
       "      <td>0</td>\n",
       "      <td>Check-Out</td>\n",
       "      <td>2015-07-01</td>\n",
       "    </tr>\n",
       "    <tr>\n",
       "      <th>1</th>\n",
       "      <td>Resort Hotel</td>\n",
       "      <td>0</td>\n",
       "      <td>737</td>\n",
       "      <td>2015</td>\n",
       "      <td>July</td>\n",
       "      <td>27</td>\n",
       "      <td>1</td>\n",
       "      <td>0</td>\n",
       "      <td>0</td>\n",
       "      <td>2</td>\n",
       "      <td>...</td>\n",
       "      <td>No Deposit</td>\n",
       "      <td>NaN</td>\n",
       "      <td>NaN</td>\n",
       "      <td>0</td>\n",
       "      <td>Transient</td>\n",
       "      <td>0.0</td>\n",
       "      <td>0</td>\n",
       "      <td>0</td>\n",
       "      <td>Check-Out</td>\n",
       "      <td>2015-07-01</td>\n",
       "    </tr>\n",
       "    <tr>\n",
       "      <th>2</th>\n",
       "      <td>Resort Hotel</td>\n",
       "      <td>0</td>\n",
       "      <td>7</td>\n",
       "      <td>2015</td>\n",
       "      <td>July</td>\n",
       "      <td>27</td>\n",
       "      <td>1</td>\n",
       "      <td>0</td>\n",
       "      <td>1</td>\n",
       "      <td>1</td>\n",
       "      <td>...</td>\n",
       "      <td>No Deposit</td>\n",
       "      <td>NaN</td>\n",
       "      <td>NaN</td>\n",
       "      <td>0</td>\n",
       "      <td>Transient</td>\n",
       "      <td>75.0</td>\n",
       "      <td>0</td>\n",
       "      <td>0</td>\n",
       "      <td>Check-Out</td>\n",
       "      <td>2015-07-02</td>\n",
       "    </tr>\n",
       "    <tr>\n",
       "      <th>3</th>\n",
       "      <td>Resort Hotel</td>\n",
       "      <td>0</td>\n",
       "      <td>13</td>\n",
       "      <td>2015</td>\n",
       "      <td>July</td>\n",
       "      <td>27</td>\n",
       "      <td>1</td>\n",
       "      <td>0</td>\n",
       "      <td>1</td>\n",
       "      <td>1</td>\n",
       "      <td>...</td>\n",
       "      <td>No Deposit</td>\n",
       "      <td>304.0</td>\n",
       "      <td>NaN</td>\n",
       "      <td>0</td>\n",
       "      <td>Transient</td>\n",
       "      <td>75.0</td>\n",
       "      <td>0</td>\n",
       "      <td>0</td>\n",
       "      <td>Check-Out</td>\n",
       "      <td>2015-07-02</td>\n",
       "    </tr>\n",
       "    <tr>\n",
       "      <th>4</th>\n",
       "      <td>Resort Hotel</td>\n",
       "      <td>0</td>\n",
       "      <td>14</td>\n",
       "      <td>2015</td>\n",
       "      <td>July</td>\n",
       "      <td>27</td>\n",
       "      <td>1</td>\n",
       "      <td>0</td>\n",
       "      <td>2</td>\n",
       "      <td>2</td>\n",
       "      <td>...</td>\n",
       "      <td>No Deposit</td>\n",
       "      <td>240.0</td>\n",
       "      <td>NaN</td>\n",
       "      <td>0</td>\n",
       "      <td>Transient</td>\n",
       "      <td>98.0</td>\n",
       "      <td>0</td>\n",
       "      <td>1</td>\n",
       "      <td>Check-Out</td>\n",
       "      <td>2015-07-03</td>\n",
       "    </tr>\n",
       "  </tbody>\n",
       "</table>\n",
       "<p>5 rows × 32 columns</p>\n",
       "</div>"
      ],
      "text/plain": [
       "          hotel  is_canceled  lead_time  arrival_date_year arrival_date_month  \\\n",
       "0  Resort Hotel            0        342               2015               July   \n",
       "1  Resort Hotel            0        737               2015               July   \n",
       "2  Resort Hotel            0          7               2015               July   \n",
       "3  Resort Hotel            0         13               2015               July   \n",
       "4  Resort Hotel            0         14               2015               July   \n",
       "\n",
       "   arrival_date_week_number  arrival_date_day_of_month  \\\n",
       "0                        27                          1   \n",
       "1                        27                          1   \n",
       "2                        27                          1   \n",
       "3                        27                          1   \n",
       "4                        27                          1   \n",
       "\n",
       "   stays_in_weekend_nights  stays_in_week_nights  adults  ...  deposit_type  \\\n",
       "0                        0                     0       2  ...    No Deposit   \n",
       "1                        0                     0       2  ...    No Deposit   \n",
       "2                        0                     1       1  ...    No Deposit   \n",
       "3                        0                     1       1  ...    No Deposit   \n",
       "4                        0                     2       2  ...    No Deposit   \n",
       "\n",
       "   agent company days_in_waiting_list customer_type   adr  \\\n",
       "0    NaN     NaN                    0     Transient   0.0   \n",
       "1    NaN     NaN                    0     Transient   0.0   \n",
       "2    NaN     NaN                    0     Transient  75.0   \n",
       "3  304.0     NaN                    0     Transient  75.0   \n",
       "4  240.0     NaN                    0     Transient  98.0   \n",
       "\n",
       "   required_car_parking_spaces  total_of_special_requests  reservation_status  \\\n",
       "0                            0                          0           Check-Out   \n",
       "1                            0                          0           Check-Out   \n",
       "2                            0                          0           Check-Out   \n",
       "3                            0                          0           Check-Out   \n",
       "4                            0                          1           Check-Out   \n",
       "\n",
       "  reservation_status_date  \n",
       "0              2015-07-01  \n",
       "1              2015-07-01  \n",
       "2              2015-07-02  \n",
       "3              2015-07-02  \n",
       "4              2015-07-03  \n",
       "\n",
       "[5 rows x 32 columns]"
      ]
     },
     "execution_count": 3,
     "metadata": {},
     "output_type": "execute_result"
    }
   ],
   "source": [
    "df_original.head()"
   ]
  },
  {
   "cell_type": "code",
   "execution_count": 4,
   "metadata": {},
   "outputs": [],
   "source": [
    "# menerapkan batasan data (variabel tertentu saja dan 5000 row pertama saja)\n",
    "# saya pisah df original dengan df yang sudah difilter karena barangkali diperlukan lagi\n",
    "df = df_original[['hotel', 'is_canceled', 'adults', 'children', 'babies', 'meal', 'country', 'market_segment', 'distribution_channel', 'reserved_room_type', 'booking_changes', 'deposit_type', 'days_in_waiting_list', 'customer_type', 'required_car_parking_spaces', 'total_of_special_requests']][:5000]"
   ]
  },
  {
   "cell_type": "code",
   "execution_count": 5,
   "metadata": {},
   "outputs": [
    {
     "data": {
      "text/html": [
       "<div>\n",
       "<style scoped>\n",
       "    .dataframe tbody tr th:only-of-type {\n",
       "        vertical-align: middle;\n",
       "    }\n",
       "\n",
       "    .dataframe tbody tr th {\n",
       "        vertical-align: top;\n",
       "    }\n",
       "\n",
       "    .dataframe thead th {\n",
       "        text-align: right;\n",
       "    }\n",
       "</style>\n",
       "<table border=\"1\" class=\"dataframe\">\n",
       "  <thead>\n",
       "    <tr style=\"text-align: right;\">\n",
       "      <th></th>\n",
       "      <th>hotel</th>\n",
       "      <th>is_canceled</th>\n",
       "      <th>adults</th>\n",
       "      <th>children</th>\n",
       "      <th>babies</th>\n",
       "      <th>meal</th>\n",
       "      <th>country</th>\n",
       "      <th>market_segment</th>\n",
       "      <th>distribution_channel</th>\n",
       "      <th>reserved_room_type</th>\n",
       "      <th>booking_changes</th>\n",
       "      <th>deposit_type</th>\n",
       "      <th>days_in_waiting_list</th>\n",
       "      <th>customer_type</th>\n",
       "      <th>required_car_parking_spaces</th>\n",
       "      <th>total_of_special_requests</th>\n",
       "    </tr>\n",
       "  </thead>\n",
       "  <tbody>\n",
       "    <tr>\n",
       "      <th>0</th>\n",
       "      <td>Resort Hotel</td>\n",
       "      <td>0</td>\n",
       "      <td>2</td>\n",
       "      <td>0.0</td>\n",
       "      <td>0</td>\n",
       "      <td>BB</td>\n",
       "      <td>PRT</td>\n",
       "      <td>Direct</td>\n",
       "      <td>Direct</td>\n",
       "      <td>C</td>\n",
       "      <td>3</td>\n",
       "      <td>No Deposit</td>\n",
       "      <td>0</td>\n",
       "      <td>Transient</td>\n",
       "      <td>0</td>\n",
       "      <td>0</td>\n",
       "    </tr>\n",
       "    <tr>\n",
       "      <th>1</th>\n",
       "      <td>Resort Hotel</td>\n",
       "      <td>0</td>\n",
       "      <td>2</td>\n",
       "      <td>0.0</td>\n",
       "      <td>0</td>\n",
       "      <td>BB</td>\n",
       "      <td>PRT</td>\n",
       "      <td>Direct</td>\n",
       "      <td>Direct</td>\n",
       "      <td>C</td>\n",
       "      <td>4</td>\n",
       "      <td>No Deposit</td>\n",
       "      <td>0</td>\n",
       "      <td>Transient</td>\n",
       "      <td>0</td>\n",
       "      <td>0</td>\n",
       "    </tr>\n",
       "    <tr>\n",
       "      <th>2</th>\n",
       "      <td>Resort Hotel</td>\n",
       "      <td>0</td>\n",
       "      <td>1</td>\n",
       "      <td>0.0</td>\n",
       "      <td>0</td>\n",
       "      <td>BB</td>\n",
       "      <td>GBR</td>\n",
       "      <td>Direct</td>\n",
       "      <td>Direct</td>\n",
       "      <td>A</td>\n",
       "      <td>0</td>\n",
       "      <td>No Deposit</td>\n",
       "      <td>0</td>\n",
       "      <td>Transient</td>\n",
       "      <td>0</td>\n",
       "      <td>0</td>\n",
       "    </tr>\n",
       "    <tr>\n",
       "      <th>3</th>\n",
       "      <td>Resort Hotel</td>\n",
       "      <td>0</td>\n",
       "      <td>1</td>\n",
       "      <td>0.0</td>\n",
       "      <td>0</td>\n",
       "      <td>BB</td>\n",
       "      <td>GBR</td>\n",
       "      <td>Corporate</td>\n",
       "      <td>Corporate</td>\n",
       "      <td>A</td>\n",
       "      <td>0</td>\n",
       "      <td>No Deposit</td>\n",
       "      <td>0</td>\n",
       "      <td>Transient</td>\n",
       "      <td>0</td>\n",
       "      <td>0</td>\n",
       "    </tr>\n",
       "    <tr>\n",
       "      <th>4</th>\n",
       "      <td>Resort Hotel</td>\n",
       "      <td>0</td>\n",
       "      <td>2</td>\n",
       "      <td>0.0</td>\n",
       "      <td>0</td>\n",
       "      <td>BB</td>\n",
       "      <td>GBR</td>\n",
       "      <td>Online TA</td>\n",
       "      <td>TA/TO</td>\n",
       "      <td>A</td>\n",
       "      <td>0</td>\n",
       "      <td>No Deposit</td>\n",
       "      <td>0</td>\n",
       "      <td>Transient</td>\n",
       "      <td>0</td>\n",
       "      <td>1</td>\n",
       "    </tr>\n",
       "  </tbody>\n",
       "</table>\n",
       "</div>"
      ],
      "text/plain": [
       "          hotel  is_canceled  adults  children  babies meal country  \\\n",
       "0  Resort Hotel            0       2       0.0       0   BB     PRT   \n",
       "1  Resort Hotel            0       2       0.0       0   BB     PRT   \n",
       "2  Resort Hotel            0       1       0.0       0   BB     GBR   \n",
       "3  Resort Hotel            0       1       0.0       0   BB     GBR   \n",
       "4  Resort Hotel            0       2       0.0       0   BB     GBR   \n",
       "\n",
       "  market_segment distribution_channel reserved_room_type  booking_changes  \\\n",
       "0         Direct               Direct                  C                3   \n",
       "1         Direct               Direct                  C                4   \n",
       "2         Direct               Direct                  A                0   \n",
       "3      Corporate            Corporate                  A                0   \n",
       "4      Online TA                TA/TO                  A                0   \n",
       "\n",
       "  deposit_type  days_in_waiting_list customer_type  \\\n",
       "0   No Deposit                     0     Transient   \n",
       "1   No Deposit                     0     Transient   \n",
       "2   No Deposit                     0     Transient   \n",
       "3   No Deposit                     0     Transient   \n",
       "4   No Deposit                     0     Transient   \n",
       "\n",
       "   required_car_parking_spaces  total_of_special_requests  \n",
       "0                            0                          0  \n",
       "1                            0                          0  \n",
       "2                            0                          0  \n",
       "3                            0                          0  \n",
       "4                            0                          1  "
      ]
     },
     "execution_count": 5,
     "metadata": {},
     "output_type": "execute_result"
    }
   ],
   "source": [
    "df.head()"
   ]
  },
  {
   "cell_type": "markdown",
   "metadata": {},
   "source": [
    "### **A. EDA** (25 poin)"
   ]
  },
  {
   "cell_type": "code",
   "execution_count": 6,
   "metadata": {},
   "outputs": [
    {
     "name": "stdout",
     "output_type": "stream",
     "text": [
      "<class 'pandas.core.frame.DataFrame'>\n",
      "RangeIndex: 5000 entries, 0 to 4999\n",
      "Data columns (total 16 columns):\n",
      " #   Column                       Non-Null Count  Dtype  \n",
      "---  ------                       --------------  -----  \n",
      " 0   hotel                        5000 non-null   object \n",
      " 1   is_canceled                  5000 non-null   int64  \n",
      " 2   adults                       5000 non-null   int64  \n",
      " 3   children                     5000 non-null   float64\n",
      " 4   babies                       5000 non-null   int64  \n",
      " 5   meal                         5000 non-null   object \n",
      " 6   country                      4998 non-null   object \n",
      " 7   market_segment               5000 non-null   object \n",
      " 8   distribution_channel         5000 non-null   object \n",
      " 9   reserved_room_type           5000 non-null   object \n",
      " 10  booking_changes              5000 non-null   int64  \n",
      " 11  deposit_type                 5000 non-null   object \n",
      " 12  days_in_waiting_list         5000 non-null   int64  \n",
      " 13  customer_type                5000 non-null   object \n",
      " 14  required_car_parking_spaces  5000 non-null   int64  \n",
      " 15  total_of_special_requests    5000 non-null   int64  \n",
      "dtypes: float64(1), int64(7), object(8)\n",
      "memory usage: 625.1+ KB\n"
     ]
    }
   ],
   "source": [
    "df.info()"
   ]
  },
  {
   "cell_type": "code",
   "execution_count": 7,
   "metadata": {},
   "outputs": [
    {
     "data": {
      "text/plain": [
       "hotel                          0\n",
       "is_canceled                    0\n",
       "adults                         0\n",
       "children                       0\n",
       "babies                         0\n",
       "meal                           0\n",
       "country                        2\n",
       "market_segment                 0\n",
       "distribution_channel           0\n",
       "reserved_room_type             0\n",
       "booking_changes                0\n",
       "deposit_type                   0\n",
       "days_in_waiting_list           0\n",
       "customer_type                  0\n",
       "required_car_parking_spaces    0\n",
       "total_of_special_requests      0\n",
       "dtype: int64"
      ]
     },
     "execution_count": 7,
     "metadata": {},
     "output_type": "execute_result"
    }
   ],
   "source": [
    "df.isna().sum()"
   ]
  },
  {
   "cell_type": "code",
   "execution_count": 8,
   "metadata": {},
   "outputs": [
    {
     "data": {
      "text/plain": [
       "0.04"
      ]
     },
     "execution_count": 8,
     "metadata": {},
     "output_type": "execute_result"
    }
   ],
   "source": [
    "# ratio dari missing value\n",
    "df['country'].isnull().sum() / len(df) * 100"
   ]
  },
  {
   "cell_type": "markdown",
   "metadata": {},
   "source": [
    "#### Analisa\n",
    "\n",
    "Disini dapat dilihat bahwa ada dua row yang memiliki column country yang kosong. Tapi rasio dibanding data, missing valuenya sangat kecil."
   ]
  },
  {
   "cell_type": "code",
   "execution_count": 9,
   "metadata": {},
   "outputs": [
    {
     "data": {
      "text/html": [
       "<div>\n",
       "<style scoped>\n",
       "    .dataframe tbody tr th:only-of-type {\n",
       "        vertical-align: middle;\n",
       "    }\n",
       "\n",
       "    .dataframe tbody tr th {\n",
       "        vertical-align: top;\n",
       "    }\n",
       "\n",
       "    .dataframe thead th {\n",
       "        text-align: right;\n",
       "    }\n",
       "</style>\n",
       "<table border=\"1\" class=\"dataframe\">\n",
       "  <thead>\n",
       "    <tr style=\"text-align: right;\">\n",
       "      <th></th>\n",
       "      <th>is_canceled</th>\n",
       "      <th>adults</th>\n",
       "      <th>children</th>\n",
       "      <th>babies</th>\n",
       "      <th>booking_changes</th>\n",
       "      <th>days_in_waiting_list</th>\n",
       "      <th>required_car_parking_spaces</th>\n",
       "      <th>total_of_special_requests</th>\n",
       "    </tr>\n",
       "  </thead>\n",
       "  <tbody>\n",
       "    <tr>\n",
       "      <th>count</th>\n",
       "      <td>5000.0</td>\n",
       "      <td>5000.0</td>\n",
       "      <td>5000.0</td>\n",
       "      <td>5000.0</td>\n",
       "      <td>5000.0</td>\n",
       "      <td>5000.0</td>\n",
       "      <td>5000.0</td>\n",
       "      <td>5000.0</td>\n",
       "    </tr>\n",
       "    <tr>\n",
       "      <th>mean</th>\n",
       "      <td>0.0</td>\n",
       "      <td>2.0</td>\n",
       "      <td>0.0</td>\n",
       "      <td>0.0</td>\n",
       "      <td>0.0</td>\n",
       "      <td>2.0</td>\n",
       "      <td>0.0</td>\n",
       "      <td>1.0</td>\n",
       "    </tr>\n",
       "    <tr>\n",
       "      <th>std</th>\n",
       "      <td>0.0</td>\n",
       "      <td>2.0</td>\n",
       "      <td>0.0</td>\n",
       "      <td>0.0</td>\n",
       "      <td>1.0</td>\n",
       "      <td>14.0</td>\n",
       "      <td>0.0</td>\n",
       "      <td>1.0</td>\n",
       "    </tr>\n",
       "    <tr>\n",
       "      <th>min</th>\n",
       "      <td>0.0</td>\n",
       "      <td>0.0</td>\n",
       "      <td>0.0</td>\n",
       "      <td>0.0</td>\n",
       "      <td>0.0</td>\n",
       "      <td>0.0</td>\n",
       "      <td>0.0</td>\n",
       "      <td>0.0</td>\n",
       "    </tr>\n",
       "    <tr>\n",
       "      <th>25%</th>\n",
       "      <td>0.0</td>\n",
       "      <td>2.0</td>\n",
       "      <td>0.0</td>\n",
       "      <td>0.0</td>\n",
       "      <td>0.0</td>\n",
       "      <td>0.0</td>\n",
       "      <td>0.0</td>\n",
       "      <td>0.0</td>\n",
       "    </tr>\n",
       "    <tr>\n",
       "      <th>50%</th>\n",
       "      <td>0.0</td>\n",
       "      <td>2.0</td>\n",
       "      <td>0.0</td>\n",
       "      <td>0.0</td>\n",
       "      <td>0.0</td>\n",
       "      <td>0.0</td>\n",
       "      <td>0.0</td>\n",
       "      <td>0.0</td>\n",
       "    </tr>\n",
       "    <tr>\n",
       "      <th>75%</th>\n",
       "      <td>1.0</td>\n",
       "      <td>2.0</td>\n",
       "      <td>0.0</td>\n",
       "      <td>0.0</td>\n",
       "      <td>0.0</td>\n",
       "      <td>0.0</td>\n",
       "      <td>0.0</td>\n",
       "      <td>1.0</td>\n",
       "    </tr>\n",
       "    <tr>\n",
       "      <th>max</th>\n",
       "      <td>1.0</td>\n",
       "      <td>55.0</td>\n",
       "      <td>10.0</td>\n",
       "      <td>2.0</td>\n",
       "      <td>17.0</td>\n",
       "      <td>122.0</td>\n",
       "      <td>2.0</td>\n",
       "      <td>4.0</td>\n",
       "    </tr>\n",
       "  </tbody>\n",
       "</table>\n",
       "</div>"
      ],
      "text/plain": [
       "       is_canceled  adults  children  babies  booking_changes  \\\n",
       "count       5000.0  5000.0    5000.0  5000.0           5000.0   \n",
       "mean           0.0     2.0       0.0     0.0              0.0   \n",
       "std            0.0     2.0       0.0     0.0              1.0   \n",
       "min            0.0     0.0       0.0     0.0              0.0   \n",
       "25%            0.0     2.0       0.0     0.0              0.0   \n",
       "50%            0.0     2.0       0.0     0.0              0.0   \n",
       "75%            1.0     2.0       0.0     0.0              0.0   \n",
       "max            1.0    55.0      10.0     2.0             17.0   \n",
       "\n",
       "       days_in_waiting_list  required_car_parking_spaces  \\\n",
       "count                5000.0                       5000.0   \n",
       "mean                    2.0                          0.0   \n",
       "std                    14.0                          0.0   \n",
       "min                     0.0                          0.0   \n",
       "25%                     0.0                          0.0   \n",
       "50%                     0.0                          0.0   \n",
       "75%                     0.0                          0.0   \n",
       "max                   122.0                          2.0   \n",
       "\n",
       "       total_of_special_requests  \n",
       "count                     5000.0  \n",
       "mean                         1.0  \n",
       "std                          1.0  \n",
       "min                          0.0  \n",
       "25%                          0.0  \n",
       "50%                          0.0  \n",
       "75%                          1.0  \n",
       "max                          4.0  "
      ]
     },
     "execution_count": 9,
     "metadata": {},
     "output_type": "execute_result"
    }
   ],
   "source": [
    "df.describe().round() # menunjukan deskripsi untuk features yang numerik saja"
   ]
  },
  {
   "cell_type": "code",
   "execution_count": 10,
   "metadata": {},
   "outputs": [
    {
     "data": {
      "text/html": [
       "<div>\n",
       "<style scoped>\n",
       "    .dataframe tbody tr th:only-of-type {\n",
       "        vertical-align: middle;\n",
       "    }\n",
       "\n",
       "    .dataframe tbody tr th {\n",
       "        vertical-align: top;\n",
       "    }\n",
       "\n",
       "    .dataframe thead th {\n",
       "        text-align: right;\n",
       "    }\n",
       "</style>\n",
       "<table border=\"1\" class=\"dataframe\">\n",
       "  <thead>\n",
       "    <tr style=\"text-align: right;\">\n",
       "      <th></th>\n",
       "      <th>hotel</th>\n",
       "      <th>is_canceled</th>\n",
       "      <th>adults</th>\n",
       "      <th>children</th>\n",
       "      <th>babies</th>\n",
       "      <th>meal</th>\n",
       "      <th>country</th>\n",
       "      <th>market_segment</th>\n",
       "      <th>distribution_channel</th>\n",
       "      <th>reserved_room_type</th>\n",
       "      <th>booking_changes</th>\n",
       "      <th>deposit_type</th>\n",
       "      <th>days_in_waiting_list</th>\n",
       "      <th>customer_type</th>\n",
       "      <th>required_car_parking_spaces</th>\n",
       "      <th>total_of_special_requests</th>\n",
       "    </tr>\n",
       "  </thead>\n",
       "  <tbody>\n",
       "    <tr>\n",
       "      <th>count</th>\n",
       "      <td>5000</td>\n",
       "      <td>5000.000000</td>\n",
       "      <td>5000.000000</td>\n",
       "      <td>5000.000000</td>\n",
       "      <td>5000.000000</td>\n",
       "      <td>5000</td>\n",
       "      <td>4998</td>\n",
       "      <td>5000</td>\n",
       "      <td>5000</td>\n",
       "      <td>5000</td>\n",
       "      <td>5000.000000</td>\n",
       "      <td>5000</td>\n",
       "      <td>5000.000000</td>\n",
       "      <td>5000</td>\n",
       "      <td>5000.000000</td>\n",
       "      <td>5000.000000</td>\n",
       "    </tr>\n",
       "    <tr>\n",
       "      <th>unique</th>\n",
       "      <td>1</td>\n",
       "      <td>NaN</td>\n",
       "      <td>NaN</td>\n",
       "      <td>NaN</td>\n",
       "      <td>NaN</td>\n",
       "      <td>5</td>\n",
       "      <td>56</td>\n",
       "      <td>6</td>\n",
       "      <td>3</td>\n",
       "      <td>9</td>\n",
       "      <td>NaN</td>\n",
       "      <td>3</td>\n",
       "      <td>NaN</td>\n",
       "      <td>4</td>\n",
       "      <td>NaN</td>\n",
       "      <td>NaN</td>\n",
       "    </tr>\n",
       "    <tr>\n",
       "      <th>top</th>\n",
       "      <td>Resort Hotel</td>\n",
       "      <td>NaN</td>\n",
       "      <td>NaN</td>\n",
       "      <td>NaN</td>\n",
       "      <td>NaN</td>\n",
       "      <td>BB</td>\n",
       "      <td>PRT</td>\n",
       "      <td>Online TA</td>\n",
       "      <td>TA/TO</td>\n",
       "      <td>A</td>\n",
       "      <td>NaN</td>\n",
       "      <td>No Deposit</td>\n",
       "      <td>NaN</td>\n",
       "      <td>Transient</td>\n",
       "      <td>NaN</td>\n",
       "      <td>NaN</td>\n",
       "    </tr>\n",
       "    <tr>\n",
       "      <th>freq</th>\n",
       "      <td>5000</td>\n",
       "      <td>NaN</td>\n",
       "      <td>NaN</td>\n",
       "      <td>NaN</td>\n",
       "      <td>NaN</td>\n",
       "      <td>3418</td>\n",
       "      <td>3174</td>\n",
       "      <td>2156</td>\n",
       "      <td>3657</td>\n",
       "      <td>3167</td>\n",
       "      <td>NaN</td>\n",
       "      <td>4461</td>\n",
       "      <td>NaN</td>\n",
       "      <td>3699</td>\n",
       "      <td>NaN</td>\n",
       "      <td>NaN</td>\n",
       "    </tr>\n",
       "    <tr>\n",
       "      <th>mean</th>\n",
       "      <td>NaN</td>\n",
       "      <td>0.459600</td>\n",
       "      <td>1.969800</td>\n",
       "      <td>0.115600</td>\n",
       "      <td>0.014800</td>\n",
       "      <td>NaN</td>\n",
       "      <td>NaN</td>\n",
       "      <td>NaN</td>\n",
       "      <td>NaN</td>\n",
       "      <td>NaN</td>\n",
       "      <td>0.207200</td>\n",
       "      <td>NaN</td>\n",
       "      <td>1.772000</td>\n",
       "      <td>NaN</td>\n",
       "      <td>0.093800</td>\n",
       "      <td>0.602000</td>\n",
       "    </tr>\n",
       "    <tr>\n",
       "      <th>std</th>\n",
       "      <td>NaN</td>\n",
       "      <td>0.498415</td>\n",
       "      <td>1.566326</td>\n",
       "      <td>0.444833</td>\n",
       "      <td>0.122409</td>\n",
       "      <td>NaN</td>\n",
       "      <td>NaN</td>\n",
       "      <td>NaN</td>\n",
       "      <td>NaN</td>\n",
       "      <td>NaN</td>\n",
       "      <td>0.612489</td>\n",
       "      <td>NaN</td>\n",
       "      <td>13.545358</td>\n",
       "      <td>NaN</td>\n",
       "      <td>0.292948</td>\n",
       "      <td>0.823245</td>\n",
       "    </tr>\n",
       "    <tr>\n",
       "      <th>min</th>\n",
       "      <td>NaN</td>\n",
       "      <td>0.000000</td>\n",
       "      <td>0.000000</td>\n",
       "      <td>0.000000</td>\n",
       "      <td>0.000000</td>\n",
       "      <td>NaN</td>\n",
       "      <td>NaN</td>\n",
       "      <td>NaN</td>\n",
       "      <td>NaN</td>\n",
       "      <td>NaN</td>\n",
       "      <td>0.000000</td>\n",
       "      <td>NaN</td>\n",
       "      <td>0.000000</td>\n",
       "      <td>NaN</td>\n",
       "      <td>0.000000</td>\n",
       "      <td>0.000000</td>\n",
       "    </tr>\n",
       "    <tr>\n",
       "      <th>25%</th>\n",
       "      <td>NaN</td>\n",
       "      <td>0.000000</td>\n",
       "      <td>2.000000</td>\n",
       "      <td>0.000000</td>\n",
       "      <td>0.000000</td>\n",
       "      <td>NaN</td>\n",
       "      <td>NaN</td>\n",
       "      <td>NaN</td>\n",
       "      <td>NaN</td>\n",
       "      <td>NaN</td>\n",
       "      <td>0.000000</td>\n",
       "      <td>NaN</td>\n",
       "      <td>0.000000</td>\n",
       "      <td>NaN</td>\n",
       "      <td>0.000000</td>\n",
       "      <td>0.000000</td>\n",
       "    </tr>\n",
       "    <tr>\n",
       "      <th>50%</th>\n",
       "      <td>NaN</td>\n",
       "      <td>0.000000</td>\n",
       "      <td>2.000000</td>\n",
       "      <td>0.000000</td>\n",
       "      <td>0.000000</td>\n",
       "      <td>NaN</td>\n",
       "      <td>NaN</td>\n",
       "      <td>NaN</td>\n",
       "      <td>NaN</td>\n",
       "      <td>NaN</td>\n",
       "      <td>0.000000</td>\n",
       "      <td>NaN</td>\n",
       "      <td>0.000000</td>\n",
       "      <td>NaN</td>\n",
       "      <td>0.000000</td>\n",
       "      <td>0.000000</td>\n",
       "    </tr>\n",
       "    <tr>\n",
       "      <th>75%</th>\n",
       "      <td>NaN</td>\n",
       "      <td>1.000000</td>\n",
       "      <td>2.000000</td>\n",
       "      <td>0.000000</td>\n",
       "      <td>0.000000</td>\n",
       "      <td>NaN</td>\n",
       "      <td>NaN</td>\n",
       "      <td>NaN</td>\n",
       "      <td>NaN</td>\n",
       "      <td>NaN</td>\n",
       "      <td>0.000000</td>\n",
       "      <td>NaN</td>\n",
       "      <td>0.000000</td>\n",
       "      <td>NaN</td>\n",
       "      <td>0.000000</td>\n",
       "      <td>1.000000</td>\n",
       "    </tr>\n",
       "    <tr>\n",
       "      <th>max</th>\n",
       "      <td>NaN</td>\n",
       "      <td>1.000000</td>\n",
       "      <td>55.000000</td>\n",
       "      <td>10.000000</td>\n",
       "      <td>2.000000</td>\n",
       "      <td>NaN</td>\n",
       "      <td>NaN</td>\n",
       "      <td>NaN</td>\n",
       "      <td>NaN</td>\n",
       "      <td>NaN</td>\n",
       "      <td>17.000000</td>\n",
       "      <td>NaN</td>\n",
       "      <td>122.000000</td>\n",
       "      <td>NaN</td>\n",
       "      <td>2.000000</td>\n",
       "      <td>4.000000</td>\n",
       "    </tr>\n",
       "  </tbody>\n",
       "</table>\n",
       "</div>"
      ],
      "text/plain": [
       "               hotel  is_canceled       adults     children       babies  \\\n",
       "count           5000  5000.000000  5000.000000  5000.000000  5000.000000   \n",
       "unique             1          NaN          NaN          NaN          NaN   \n",
       "top     Resort Hotel          NaN          NaN          NaN          NaN   \n",
       "freq            5000          NaN          NaN          NaN          NaN   \n",
       "mean             NaN     0.459600     1.969800     0.115600     0.014800   \n",
       "std              NaN     0.498415     1.566326     0.444833     0.122409   \n",
       "min              NaN     0.000000     0.000000     0.000000     0.000000   \n",
       "25%              NaN     0.000000     2.000000     0.000000     0.000000   \n",
       "50%              NaN     0.000000     2.000000     0.000000     0.000000   \n",
       "75%              NaN     1.000000     2.000000     0.000000     0.000000   \n",
       "max              NaN     1.000000    55.000000    10.000000     2.000000   \n",
       "\n",
       "        meal country market_segment distribution_channel reserved_room_type  \\\n",
       "count   5000    4998           5000                 5000               5000   \n",
       "unique     5      56              6                    3                  9   \n",
       "top       BB     PRT      Online TA                TA/TO                  A   \n",
       "freq    3418    3174           2156                 3657               3167   \n",
       "mean     NaN     NaN            NaN                  NaN                NaN   \n",
       "std      NaN     NaN            NaN                  NaN                NaN   \n",
       "min      NaN     NaN            NaN                  NaN                NaN   \n",
       "25%      NaN     NaN            NaN                  NaN                NaN   \n",
       "50%      NaN     NaN            NaN                  NaN                NaN   \n",
       "75%      NaN     NaN            NaN                  NaN                NaN   \n",
       "max      NaN     NaN            NaN                  NaN                NaN   \n",
       "\n",
       "        booking_changes deposit_type  days_in_waiting_list customer_type  \\\n",
       "count       5000.000000         5000           5000.000000          5000   \n",
       "unique              NaN            3                   NaN             4   \n",
       "top                 NaN   No Deposit                   NaN     Transient   \n",
       "freq                NaN         4461                   NaN          3699   \n",
       "mean           0.207200          NaN              1.772000           NaN   \n",
       "std            0.612489          NaN             13.545358           NaN   \n",
       "min            0.000000          NaN              0.000000           NaN   \n",
       "25%            0.000000          NaN              0.000000           NaN   \n",
       "50%            0.000000          NaN              0.000000           NaN   \n",
       "75%            0.000000          NaN              0.000000           NaN   \n",
       "max           17.000000          NaN            122.000000           NaN   \n",
       "\n",
       "        required_car_parking_spaces  total_of_special_requests  \n",
       "count                   5000.000000                5000.000000  \n",
       "unique                          NaN                        NaN  \n",
       "top                             NaN                        NaN  \n",
       "freq                            NaN                        NaN  \n",
       "mean                       0.093800                   0.602000  \n",
       "std                        0.292948                   0.823245  \n",
       "min                        0.000000                   0.000000  \n",
       "25%                        0.000000                   0.000000  \n",
       "50%                        0.000000                   0.000000  \n",
       "75%                        0.000000                   1.000000  \n",
       "max                        2.000000                   4.000000  "
      ]
     },
     "execution_count": 10,
     "metadata": {},
     "output_type": "execute_result"
    }
   ],
   "source": [
    "df.describe(include='all')"
   ]
  },
  {
   "cell_type": "markdown",
   "metadata": {},
   "source": [
    "#### Distribusi Jenis Hotel"
   ]
  },
  {
   "cell_type": "code",
   "execution_count": 11,
   "metadata": {},
   "outputs": [
    {
     "data": {
      "text/plain": [
       "Resort Hotel    5000\n",
       "Name: hotel, dtype: int64"
      ]
     },
     "execution_count": 11,
     "metadata": {},
     "output_type": "execute_result"
    }
   ],
   "source": [
    "df['hotel'].value_counts()"
   ]
  },
  {
   "cell_type": "code",
   "execution_count": 12,
   "metadata": {},
   "outputs": [
    {
     "data": {
      "image/png": "[encoded data removed]",
      "text/plain": [
       "<Figure size 842.4x595.44 with 1 Axes>"
      ]
     },
     "metadata": {},
     "output_type": "display_data"
    }
   ],
   "source": [
    "plt.title(\"Distribusi Jenis Hotel\", fontdict = {'fontsize':20})\n",
    "ax = sns.countplot(x = \"hotel\", data = df)"
   ]
  },
  {
   "cell_type": "markdown",
   "metadata": {},
   "source": [
    "#### Analisa\n",
    "\n",
    "Bisa dilihat bahwa 5000 data pertama hanya menginclude data dari Resort Hotel saja dan tidak ada data City Hotel sama sekali."
   ]
  },
  {
   "cell_type": "markdown",
   "metadata": {},
   "source": [
    "#### Feature numerical mana yang paling penting?"
   ]
  },
  {
   "cell_type": "code",
   "execution_count": 13,
   "metadata": {},
   "outputs": [
    {
     "data": {
      "text/html": [
       "<div>\n",
       "<style scoped>\n",
       "    .dataframe tbody tr th:only-of-type {\n",
       "        vertical-align: middle;\n",
       "    }\n",
       "\n",
       "    .dataframe tbody tr th {\n",
       "        vertical-align: top;\n",
       "    }\n",
       "\n",
       "    .dataframe thead th {\n",
       "        text-align: right;\n",
       "    }\n",
       "</style>\n",
       "<table border=\"1\" class=\"dataframe\">\n",
       "  <thead>\n",
       "    <tr style=\"text-align: right;\">\n",
       "      <th></th>\n",
       "      <th>is_canceled</th>\n",
       "      <th>adults</th>\n",
       "      <th>children</th>\n",
       "      <th>babies</th>\n",
       "      <th>booking_changes</th>\n",
       "      <th>days_in_waiting_list</th>\n",
       "      <th>required_car_parking_spaces</th>\n",
       "      <th>total_of_special_requests</th>\n",
       "    </tr>\n",
       "  </thead>\n",
       "  <tbody>\n",
       "    <tr>\n",
       "      <th>is_canceled</th>\n",
       "      <td>1.0000</td>\n",
       "      <td>0.0452</td>\n",
       "      <td>0.0247</td>\n",
       "      <td>-0.0295</td>\n",
       "      <td>-0.1816</td>\n",
       "      <td>-0.1134</td>\n",
       "      <td>-0.2953</td>\n",
       "      <td>-0.0831</td>\n",
       "    </tr>\n",
       "    <tr>\n",
       "      <th>adults</th>\n",
       "      <td>0.0452</td>\n",
       "      <td>1.0000</td>\n",
       "      <td>0.0093</td>\n",
       "      <td>0.0013</td>\n",
       "      <td>-0.0233</td>\n",
       "      <td>-0.0176</td>\n",
       "      <td>-0.0004</td>\n",
       "      <td>-0.0081</td>\n",
       "    </tr>\n",
       "    <tr>\n",
       "      <th>children</th>\n",
       "      <td>0.0247</td>\n",
       "      <td>0.0093</td>\n",
       "      <td>1.0000</td>\n",
       "      <td>0.0016</td>\n",
       "      <td>0.0655</td>\n",
       "      <td>-0.0340</td>\n",
       "      <td>0.0519</td>\n",
       "      <td>0.0355</td>\n",
       "    </tr>\n",
       "    <tr>\n",
       "      <th>babies</th>\n",
       "      <td>-0.0295</td>\n",
       "      <td>0.0013</td>\n",
       "      <td>0.0016</td>\n",
       "      <td>1.0000</td>\n",
       "      <td>0.0605</td>\n",
       "      <td>-0.0158</td>\n",
       "      <td>0.0338</td>\n",
       "      <td>0.1756</td>\n",
       "    </tr>\n",
       "    <tr>\n",
       "      <th>booking_changes</th>\n",
       "      <td>-0.1816</td>\n",
       "      <td>-0.0233</td>\n",
       "      <td>0.0655</td>\n",
       "      <td>0.0605</td>\n",
       "      <td>1.0000</td>\n",
       "      <td>0.0161</td>\n",
       "      <td>0.0634</td>\n",
       "      <td>0.0307</td>\n",
       "    </tr>\n",
       "    <tr>\n",
       "      <th>days_in_waiting_list</th>\n",
       "      <td>-0.1134</td>\n",
       "      <td>-0.0176</td>\n",
       "      <td>-0.0340</td>\n",
       "      <td>-0.0158</td>\n",
       "      <td>0.0161</td>\n",
       "      <td>1.0000</td>\n",
       "      <td>-0.0419</td>\n",
       "      <td>-0.0957</td>\n",
       "    </tr>\n",
       "    <tr>\n",
       "      <th>required_car_parking_spaces</th>\n",
       "      <td>-0.2953</td>\n",
       "      <td>-0.0004</td>\n",
       "      <td>0.0519</td>\n",
       "      <td>0.0338</td>\n",
       "      <td>0.0634</td>\n",
       "      <td>-0.0419</td>\n",
       "      <td>1.0000</td>\n",
       "      <td>0.1109</td>\n",
       "    </tr>\n",
       "    <tr>\n",
       "      <th>total_of_special_requests</th>\n",
       "      <td>-0.0831</td>\n",
       "      <td>-0.0081</td>\n",
       "      <td>0.0355</td>\n",
       "      <td>0.1756</td>\n",
       "      <td>0.0307</td>\n",
       "      <td>-0.0957</td>\n",
       "      <td>0.1109</td>\n",
       "      <td>1.0000</td>\n",
       "    </tr>\n",
       "  </tbody>\n",
       "</table>\n",
       "</div>"
      ],
      "text/plain": [
       "                             is_canceled  adults  children  babies  \\\n",
       "is_canceled                       1.0000  0.0452    0.0247 -0.0295   \n",
       "adults                            0.0452  1.0000    0.0093  0.0013   \n",
       "children                          0.0247  0.0093    1.0000  0.0016   \n",
       "babies                           -0.0295  0.0013    0.0016  1.0000   \n",
       "booking_changes                  -0.1816 -0.0233    0.0655  0.0605   \n",
       "days_in_waiting_list             -0.1134 -0.0176   -0.0340 -0.0158   \n",
       "required_car_parking_spaces      -0.2953 -0.0004    0.0519  0.0338   \n",
       "total_of_special_requests        -0.0831 -0.0081    0.0355  0.1756   \n",
       "\n",
       "                             booking_changes  days_in_waiting_list  \\\n",
       "is_canceled                          -0.1816               -0.1134   \n",
       "adults                               -0.0233               -0.0176   \n",
       "children                              0.0655               -0.0340   \n",
       "babies                                0.0605               -0.0158   \n",
       "booking_changes                       1.0000                0.0161   \n",
       "days_in_waiting_list                  0.0161                1.0000   \n",
       "required_car_parking_spaces           0.0634               -0.0419   \n",
       "total_of_special_requests             0.0307               -0.0957   \n",
       "\n",
       "                             required_car_parking_spaces  \\\n",
       "is_canceled                                      -0.2953   \n",
       "adults                                           -0.0004   \n",
       "children                                          0.0519   \n",
       "babies                                            0.0338   \n",
       "booking_changes                                   0.0634   \n",
       "days_in_waiting_list                             -0.0419   \n",
       "required_car_parking_spaces                       1.0000   \n",
       "total_of_special_requests                         0.1109   \n",
       "\n",
       "                             total_of_special_requests  \n",
       "is_canceled                                    -0.0831  \n",
       "adults                                         -0.0081  \n",
       "children                                        0.0355  \n",
       "babies                                          0.1756  \n",
       "booking_changes                                 0.0307  \n",
       "days_in_waiting_list                           -0.0957  \n",
       "required_car_parking_spaces                     0.1109  \n",
       "total_of_special_requests                       1.0000  "
      ]
     },
     "execution_count": 13,
     "metadata": {},
     "output_type": "execute_result"
    }
   ],
   "source": [
    "df.corr().round(4)"
   ]
  },
  {
   "cell_type": "code",
   "execution_count": 14,
   "metadata": {},
   "outputs": [
    {
     "data": {
      "text/plain": [
       "required_car_parking_spaces   -0.295316\n",
       "booking_changes               -0.181608\n",
       "days_in_waiting_list          -0.113426\n",
       "total_of_special_requests     -0.083072\n",
       "babies                        -0.029543\n",
       "children                       0.024678\n",
       "adults                         0.045200\n",
       "is_canceled                    1.000000\n",
       "Name: is_canceled, dtype: float64"
      ]
     },
     "execution_count": 14,
     "metadata": {},
     "output_type": "execute_result"
    }
   ],
   "source": [
    "df.corr()[\"is_canceled\"].sort_values()"
   ]
  },
  {
   "cell_type": "code",
   "execution_count": 15,
   "metadata": {},
   "outputs": [
    {
     "data": {
      "text/plain": [
       "is_canceled                    1.000000\n",
       "required_car_parking_spaces    0.295316\n",
       "booking_changes                0.181608\n",
       "days_in_waiting_list           0.113426\n",
       "total_of_special_requests      0.083072\n",
       "adults                         0.045200\n",
       "babies                         0.029543\n",
       "children                       0.024678\n",
       "Name: is_canceled, dtype: float64"
      ]
     },
     "execution_count": 15,
     "metadata": {},
     "output_type": "execute_result"
    }
   ],
   "source": [
    "df.corr()[\"is_canceled\"].abs().sort_values(ascending = False) # digunakan function abs() untuk mendapatkan angka absolut"
   ]
  },
  {
   "cell_type": "markdown",
   "metadata": {},
   "source": [
    "#### Analisa\n",
    "\n",
    "<img src=\"https://miro.medium.com/max/466/1*Qz_gwy4ZaSZuOpl3IyO2HA.png\" width = 50% height = 50%>\n",
    "\n",
    "Credit gambar: https://towardsdatascience.com/eveything-you-need-to-know-about-interpreting-correlations-2c485841c0b8\n",
    "\n",
    "Dari list korelasi diatas kita bisa tentukan bahwa required_car_parking_spaces merupakan **numerical feature** terpenting. Korelasi disini merupakan korelasi negatif, jadi semakin tinggi parking space yang dibutuhkan customer, maka semakin tinggi tingkat cancellation. Tapi, karena size korelasinya masih 0.29, ini masih bisa dibilang korelasi yang sangat lemah.\n",
    "\n",
    "Setelah itu, tingkat korelasi tertinggi diikuti oleh booking_changes, dan days_in_waiting_list, dan total_of_special_request. Tapi korelasi disini bisa dibilang tidak meaningful karena tingkatnya sangat rendah."
   ]
  },
  {
   "cell_type": "markdown",
   "metadata": {},
   "source": [
    "### Darimanakah customer-customer hotel berasal?\n",
    "\n",
    "Perlu diingat bahwa seperti yang disebut di studi bahwa data source dari dataset ini berasal dari dua hotel di Portugal. Jadi bisa asumsikan bahwa akan ada banyak customer yang berasal dari Portugal juga."
   ]
  },
  {
   "cell_type": "code",
   "execution_count": 16,
   "metadata": {},
   "outputs": [
    {
     "data": {
      "text/plain": [
       "PRT    3174\n",
       "ESP     550\n",
       "GBR     505\n",
       "IRL     172\n",
       "FRA     113\n",
       "DEU      89\n",
       "NLD      55\n",
       "CN       33\n",
       "BEL      29\n",
       "POL      28\n",
       "USA      28\n",
       "CHE      26\n",
       "RUS      23\n",
       "ITA      23\n",
       "BRA      18\n",
       "AUT      12\n",
       "ROU      12\n",
       "LUX      10\n",
       "FIN       9\n",
       "SWE       8\n",
       "LVA       6\n",
       "DNK       6\n",
       "ARG       6\n",
       "CHN       5\n",
       "NOR       5\n",
       "AUS       4\n",
       "IND       3\n",
       "LTU       3\n",
       "CZE       3\n",
       "KOR       3\n",
       "TUR       2\n",
       "MAR       2\n",
       "DZA       2\n",
       "OMN       2\n",
       "MOZ       2\n",
       "SVN       2\n",
       "MEX       2\n",
       "CHL       2\n",
       "ZAF       2\n",
       "CRI       2\n",
       "EST       2\n",
       "BWA       1\n",
       "SMR       1\n",
       "HUN       1\n",
       "PRI       1\n",
       "SRB       1\n",
       "CYM       1\n",
       "GRC       1\n",
       "BLR       1\n",
       "UKR       1\n",
       "ALB       1\n",
       "AGO       1\n",
       "ISR       1\n",
       "ZMB       1\n",
       "ZWE       1\n",
       "CPV       1\n",
       "Name: country, dtype: int64"
      ]
     },
     "execution_count": 16,
     "metadata": {},
     "output_type": "execute_result"
    }
   ],
   "source": [
    "df['country'].value_counts()"
   ]
  },
  {
   "cell_type": "code",
   "execution_count": 17,
   "metadata": {},
   "outputs": [
    {
     "data": {
      "text/plain": [
       "Text(0, 0.5, 'Count')"
      ]
     },
     "execution_count": 17,
     "metadata": {},
     "output_type": "execute_result"
    },
    {
     "data": {
      "image/png": "[encoded data removed]",
      "text/plain": [
       "<Figure size 842.4x595.44 with 1 Axes>"
      ]
     },
     "metadata": {},
     "output_type": "display_data"
    }
   ],
   "source": [
    "sns.countplot(x='country', data=df, \n",
    "              order=pd.value_counts(df['country']).iloc[:10].index, palette=\"brg\")\n",
    "plt.title('Top 10 Country of Origin', weight='bold')\n",
    "plt.xlabel('Country', fontsize=12)\n",
    "plt.ylabel('Count', fontsize=12)"
   ]
  },
  {
   "cell_type": "markdown",
   "metadata": {},
   "source": [
    "#### Analisa\n",
    "\n",
    "Jadi dari sini kita bisa lihat bahwa sesuai perkiraan, kebanyakan booking berasal dari Portugal, diikuti oleh Spanyol, Inggris, Irlandia, Prancis, Jerman, Belanda, China, Belgia, dan Polandia. Tapi banyak sekali negara yang lain juga."
   ]
  },
  {
   "cell_type": "markdown",
   "metadata": {},
   "source": [
    "#### Segmen Pasar"
   ]
  },
  {
   "cell_type": "code",
   "execution_count": 18,
   "metadata": {},
   "outputs": [
    {
     "data": {
      "image/png": "[encoded data removed]",
      "text/plain": [
       "<Figure size 842.4x595.44 with 1 Axes>"
      ]
     },
     "metadata": {},
     "output_type": "display_data"
    }
   ],
   "source": [
    "plt.title(\"Segmen Pasar\", fontdict = {'fontsize':20})\n",
    "ax = sns.countplot(x = \"market_segment\", data = df)"
   ]
  },
  {
   "cell_type": "markdown",
   "metadata": {},
   "source": [
    "Kebanyakan customer memilih untuk melakukan booking lewat Online Travel Agent, diikuti oleh booking secara grup, lalu offline Travel Agent, diikuti lagi oleh yang lain.\n",
    "\n",
    "Disini kita bisa lihat bahwa customer hotel di Eropa sudah sangat terbiasa untuk melakukan pemesanan hotel melalui media online, mengalahkan cara yang lama yaitu antara datang langsung ke hotel atau melewati offline travel agent. \n",
    "\n",
    "Jadi sangat penting untuk hotel untuk menjalin kerjasama dengan online travel agents juga, dengan cara melakukan deal eksklusivitas (hanya ada di satu agent contohnya) tapi hotel bisa mendapatkan potongan fee, atau placement di search yang lebih tinggi.\n",
    "\n",
    "Karena jumlah customer yang melakukan pemesananan online sangat dominan, cara' ini harus dilakukan untuk sebuah hotel tetap bisa survive."
   ]
  },
  {
   "cell_type": "code",
   "execution_count": 19,
   "metadata": {},
   "outputs": [
    {
     "data": {
      "image/png": "[encoded data removed]",
      "text/plain": [
       "<Figure size 842.4x595.44 with 1 Axes>"
      ]
     },
     "metadata": {},
     "output_type": "display_data"
    }
   ],
   "source": [
    "plt.title(\"Jenis Deposit Berdasarkan Segmen Pasar\", fontdict = {'fontsize':20})\n",
    "ax = sns.countplot(x = \"market_segment\", hue = 'deposit_type', data = df)"
   ]
  },
  {
   "cell_type": "code",
   "execution_count": 20,
   "metadata": {},
   "outputs": [
    {
     "data": {
      "image/png": "[encoded data removed]",
      "text/plain": [
       "<Figure size 842.4x595.44 with 1 Axes>"
      ]
     },
     "metadata": {},
     "output_type": "display_data"
    }
   ],
   "source": [
    "plt.title(\"Distribusi Cancellation Berdasarkan Segmen Pasar\", fontdict = {'fontsize':20})\n",
    "ax = sns.countplot(x = \"market_segment\", hue = 'is_canceled', data = df)"
   ]
  },
  {
   "cell_type": "markdown",
   "metadata": {},
   "source": [
    "#### Analisa Deposit Type berdasarkan segmen pasar\n",
    "\n",
    "Kebanyakan dari booking tidak menggunakan non-refundable deposit, bahkan tidak memakai deposit sama sekali. Kecuali di tipe segmen Groups, dengan tingkat non-refundable/refundable deposit yang paling tinggi dari semua segmen. Online dan Offline TA kadang-kadang memakai deposit jenis non-refundable.\n",
    "\n",
    "Bisa diasumsi dari countplot pertama bahwa groups akan memiliki cancellation rate yang lebih rendah, karena kebanyakan deposit typenya non-refundable.\n",
    "\n",
    "#### Analisa Cancellation Rate berdasarkan segmen pasar\n",
    "\n",
    "- Tingkat cancellation online TA dan group melebihi angka 50%.\n",
    "- Offline TA memiliki cancellation rate yang jauh lebih rendah dan online TA.\n",
    "- Direct segment memiliki cancellation rate yang paling rendah.\n",
    "- Corporate booking memiliki cancellation rate yang relatif dibanding asumsi (secara logika booking yang dilakukan oleh perusahaan semestinya lebih di-planning dan lebih jarang dicancel).\n",
    "- Group cancellation rate mengagetkannya sangat tinggi, walaupun tipe depositnya kebanyakan non-refundable.\n",
    "\n",
    "Cancellation rate dari online TA yang tinggi juga masuk akal karena melakukan online booking sangatlah mudah, bahkan tanpa deposit.\n",
    "\n",
    "Cancellation rate dari groups bisa dijelaskan karena walaupun deposit typenya kebanyakan non-refundable, tapi sifat booking secara group akan menyebabkan kemungkinan ada seseorang dari group tersebut yang tidak bisa ikut lebih tinggi. Dan juga deposit dibayar secara kelompok, jadi mungkin jumlahnya tidak terlalu besar untuk setiap individu yang ikut.\n",
    "\n",
    "Ekspektasi saya adalah direct booking dan corporate booking akan memiliki cancellation rate yang lebih rendah, ini mungkin bisa dijelaskan karena di ujian ini kita hanya menggunakan 5000 data pertama, dan jika menggunakan semua data mungkin bisa mendapatkan angka yang lebih mendekati ekspektasi.\n",
    "Karena secara logika direct booking akan lebih jarang dicancel secara otomatis karena customer sudah datang terlebih dahulu ke lokasi, dan bukan dilakukan dari jauh atau bahkan dari negara lain. Untuk coporate booking, biasanya dilakukan dengan persiapan yang lebih matang dan biasanya bukan untuk liburan melainkan kerja. Jadi karena customer datang untuk business trip, semestinya tingkat cancellation juga lebih rendah dibanding untuk liburan biasa."
   ]
  },
  {
   "cell_type": "markdown",
   "metadata": {},
   "source": [
    "#### Total cancellation dan rasio cancellation"
   ]
  },
  {
   "cell_type": "code",
   "execution_count": 21,
   "metadata": {},
   "outputs": [
    {
     "name": "stdout",
     "output_type": "stream",
     "text": [
      "Total cancellation : 2298\n",
      "Rasio cancellation: 2,298 (46 %)\n"
     ]
    }
   ],
   "source": [
    "total_cancelations = df[\"is_canceled\"].sum()\n",
    "rel_cancel = total_cancelations / df.shape[0] * 100\n",
    "\n",
    "print(f\"Total cancellation : {total_cancelations}\")\n",
    "print(f\"Rasio cancellation: {total_cancelations:,} ({rel_cancel:.0f} %)\")"
   ]
  },
  {
   "cell_type": "markdown",
   "metadata": {},
   "source": [
    "Hampir setengah dari customer yang melakukan booking mengancel booking tersebut."
   ]
  },
  {
   "cell_type": "markdown",
   "metadata": {},
   "source": [
    "#### Deposit Type dan Korelasinya ke Cancellation"
   ]
  },
  {
   "cell_type": "code",
   "execution_count": 22,
   "metadata": {},
   "outputs": [
    {
     "data": {
      "image/png": "[encoded data removed]",
      "text/plain": [
       "<Figure size 842.4x595.44 with 1 Axes>"
      ]
     },
     "metadata": {},
     "output_type": "display_data"
    }
   ],
   "source": [
    "# group data berdasarkan deposit_type:\n",
    "deposit_cancel_data = df.groupby(\"deposit_type\")[\"is_canceled\"].describe()\n",
    "\n",
    "sns.barplot(x=deposit_cancel_data.index, y=deposit_cancel_data[\"mean\"] * 100)\n",
    "plt.title(\"Deposit_type vs Cancellation\", fontsize=16)\n",
    "plt.xlabel(\"Deposit type\", fontsize=16)\n",
    "plt.ylabel(\"Cancelations [%]\", fontsize=16)\n",
    "plt.show()"
   ]
  },
  {
   "cell_type": "code",
   "execution_count": 23,
   "metadata": {},
   "outputs": [
    {
     "data": {
      "text/plain": [
       "deposit_type\n",
       "No Deposit    0.415154\n",
       "Non Refund    0.918239\n",
       "Refundable    0.129032\n",
       "Name: is_canceled, dtype: float64"
      ]
     },
     "execution_count": 23,
     "metadata": {},
     "output_type": "execute_result"
    }
   ],
   "source": [
    "df.groupby(\"deposit_type\")[\"is_canceled\"].mean()"
   ]
  },
  {
   "cell_type": "markdown",
   "metadata": {},
   "source": [
    "#### Analisa\n",
    "\n",
    "Bisa dilihat bahwa 91 persen dari customer yang melakukan deposit non-refundable melakukan cancellation. Ini merupakan sesuatu yang sangat aneh, karena secara logika customer yang telah membayar deposit non_refundable akan lebih jarang melakukan cancellation. Tapi faktanya di dataset ini tidak begitu.\n",
    "\n",
    "Pastinya segmen pasar Groups yang melakukan deposit non-refundable dengan rasio tertinggi memiliki efek yang besar terhadap grafik ini."
   ]
  },
  {
   "cell_type": "markdown",
   "metadata": {},
   "source": [
    "## Preprocessing"
   ]
  },
  {
   "cell_type": "code",
   "execution_count": 24,
   "metadata": {},
   "outputs": [
    {
     "name": "stdout",
     "output_type": "stream",
     "text": [
      "<class 'pandas.core.frame.DataFrame'>\n",
      "RangeIndex: 5000 entries, 0 to 4999\n",
      "Data columns (total 16 columns):\n",
      " #   Column                       Non-Null Count  Dtype  \n",
      "---  ------                       --------------  -----  \n",
      " 0   hotel                        5000 non-null   object \n",
      " 1   is_canceled                  5000 non-null   int64  \n",
      " 2   adults                       5000 non-null   int64  \n",
      " 3   children                     5000 non-null   float64\n",
      " 4   babies                       5000 non-null   int64  \n",
      " 5   meal                         5000 non-null   object \n",
      " 6   country                      4998 non-null   object \n",
      " 7   market_segment               5000 non-null   object \n",
      " 8   distribution_channel         5000 non-null   object \n",
      " 9   reserved_room_type           5000 non-null   object \n",
      " 10  booking_changes              5000 non-null   int64  \n",
      " 11  deposit_type                 5000 non-null   object \n",
      " 12  days_in_waiting_list         5000 non-null   int64  \n",
      " 13  customer_type                5000 non-null   object \n",
      " 14  required_car_parking_spaces  5000 non-null   int64  \n",
      " 15  total_of_special_requests    5000 non-null   int64  \n",
      "dtypes: float64(1), int64(7), object(8)\n",
      "memory usage: 625.1+ KB\n"
     ]
    }
   ],
   "source": [
    "df.info()"
   ]
  },
  {
   "cell_type": "code",
   "execution_count": 25,
   "metadata": {},
   "outputs": [
    {
     "data": {
      "text/plain": [
       "hotel                          0\n",
       "is_canceled                    0\n",
       "adults                         0\n",
       "children                       0\n",
       "babies                         0\n",
       "meal                           0\n",
       "country                        2\n",
       "market_segment                 0\n",
       "distribution_channel           0\n",
       "reserved_room_type             0\n",
       "booking_changes                0\n",
       "deposit_type                   0\n",
       "days_in_waiting_list           0\n",
       "customer_type                  0\n",
       "required_car_parking_spaces    0\n",
       "total_of_special_requests      0\n",
       "dtype: int64"
      ]
     },
     "execution_count": 25,
     "metadata": {},
     "output_type": "execute_result"
    }
   ],
   "source": [
    "df.isna().sum()"
   ]
  },
  {
   "cell_type": "markdown",
   "metadata": {},
   "source": [
    "#### Menggabungkan data adults + children + babies menjadi total_customer"
   ]
  },
  {
   "cell_type": "code",
   "execution_count": 26,
   "metadata": {},
   "outputs": [],
   "source": [
    "# untuk membuat data lebih simpel, total_customer dibuat dengan total orang di satu booking\n",
    "df[\"total_customer\"] = df[\"adults\"] + df[\"children\"] + df[\"babies\"]"
   ]
  },
  {
   "cell_type": "markdown",
   "metadata": {},
   "source": [
    "#### Menambahkan feature boolean \"is_family\""
   ]
  },
  {
   "cell_type": "code",
   "execution_count": 27,
   "metadata": {},
   "outputs": [],
   "source": [
    "# untuk menunjukan bahwa suatu booking memiliki anak-anak atau tidak, saya tambahkan feature is_family\n",
    "\n",
    "# jika membawa bayi atau anak, is_family = true\n",
    "def family(data):\n",
    "    if ((data['adults'] > 0) & (data['children'] > 0)):\n",
    "        val = 1\n",
    "    elif ((data['adults'] > 0) & (data['babies'] > 0)):\n",
    "        val = 1\n",
    "    else:\n",
    "        val = 0\n",
    "    return val"
   ]
  },
  {
   "cell_type": "code",
   "execution_count": 28,
   "metadata": {},
   "outputs": [],
   "source": [
    "df[\"is_family\"] = df.apply(family, axis = 1)"
   ]
  },
  {
   "cell_type": "code",
   "execution_count": 29,
   "metadata": {},
   "outputs": [],
   "source": [
    "# drop adults, children, babies karena sudah ada di is_family dan total_customers\n",
    "df.drop(columns = [\"adults\", \"children\", \"babies\"], inplace = True)"
   ]
  },
  {
   "cell_type": "code",
   "execution_count": 30,
   "metadata": {},
   "outputs": [
    {
     "data": {
      "text/plain": [
       "Resort Hotel    5000\n",
       "Name: hotel, dtype: int64"
      ]
     },
     "execution_count": 30,
     "metadata": {},
     "output_type": "execute_result"
    }
   ],
   "source": [
    "df[\"hotel\"].value_counts()"
   ]
  },
  {
   "cell_type": "code",
   "execution_count": 31,
   "metadata": {},
   "outputs": [],
   "source": [
    "# drop hotels karena cuma ada satu hotel, dan country karena bisa membuat model overfitting\n",
    "df.drop(columns = [\"hotel\", \"country\"], inplace = True)"
   ]
  },
  {
   "cell_type": "code",
   "execution_count": 32,
   "metadata": {},
   "outputs": [
    {
     "data": {
      "text/plain": [
       "BB           0.6836\n",
       "HB           0.2074\n",
       "FB           0.0638\n",
       "Undefined    0.0424\n",
       "SC           0.0028\n",
       "Name: meal, dtype: float64"
      ]
     },
     "execution_count": 32,
     "metadata": {},
     "output_type": "execute_result"
    }
   ],
   "source": [
    "df[\"meal\"].value_counts(normalize = True)"
   ]
  },
  {
   "cell_type": "code",
   "execution_count": 33,
   "metadata": {},
   "outputs": [
    {
     "data": {
      "text/plain": [
       "Index(['is_canceled', 'meal', 'market_segment', 'distribution_channel',\n",
       "       'reserved_room_type', 'booking_changes', 'deposit_type',\n",
       "       'days_in_waiting_list', 'customer_type', 'required_car_parking_spaces',\n",
       "       'total_of_special_requests', 'total_customer', 'is_family'],\n",
       "      dtype='object')"
      ]
     },
     "execution_count": 33,
     "metadata": {},
     "output_type": "execute_result"
    }
   ],
   "source": [
    "df.columns"
   ]
  },
  {
   "cell_type": "code",
   "execution_count": 34,
   "metadata": {},
   "outputs": [
    {
     "data": {
      "text/plain": [
       "is_canceled                    0\n",
       "meal                           0\n",
       "market_segment                 0\n",
       "distribution_channel           0\n",
       "reserved_room_type             0\n",
       "booking_changes                0\n",
       "deposit_type                   0\n",
       "days_in_waiting_list           0\n",
       "customer_type                  0\n",
       "required_car_parking_spaces    0\n",
       "total_of_special_requests      0\n",
       "total_customer                 0\n",
       "is_family                      0\n",
       "dtype: int64"
      ]
     },
     "execution_count": 34,
     "metadata": {},
     "output_type": "execute_result"
    }
   ],
   "source": [
    "df.isna().sum()"
   ]
  },
  {
   "cell_type": "code",
   "execution_count": 35,
   "metadata": {},
   "outputs": [],
   "source": [
    "# library untuk preprocessing\n",
    "\n",
    "from sklearn.preprocessing import OneHotEncoder\n",
    "from sklearn.impute import SimpleImputer\n",
    "from sklearn.compose import ColumnTransformer\n",
    "from sklearn.pipeline import Pipeline"
   ]
  },
  {
   "cell_type": "code",
   "execution_count": 36,
   "metadata": {},
   "outputs": [],
   "source": [
    "# feature numerical sama categorical saya pisah terlebih dahulu\n",
    "\n",
    "num_features = [\"total_customer\",\"days_in_waiting_list\", \"required_car_parking_spaces\",\"total_of_special_requests\"]\n",
    "\n",
    "cat_features = [\"meal\",\"market_segment\", \"distribution_channel\", \"reserved_room_type\", \"deposit_type\", \n",
    "                \"customer_type\", \"is_family\"]\n",
    "\n",
    "# Separate features and predicted value\n",
    "features = num_features + cat_features\n",
    "X = df.drop([\"is_canceled\"], axis=1)[features]\n",
    "y = df[\"is_canceled\"]\n",
    "\n",
    "# untuk numerical features\n",
    "num_transformer = SimpleImputer(strategy=\"constant\")\n",
    "\n",
    "# untuk categorical features\n",
    "cat_transformer = Pipeline(steps=[\n",
    "    (\"imputer\", SimpleImputer(strategy=\"constant\", fill_value=\"Unknown\")),\n",
    "    (\"onehot\", OneHotEncoder(handle_unknown='ignore'))])\n",
    "\n",
    "# gabungkan keduanya\n",
    "transformer = ColumnTransformer(transformers=[(\"num\", num_transformer, num_features),\n",
    "                                               (\"cat\", cat_transformer, cat_features)])"
   ]
  },
  {
   "cell_type": "code",
   "execution_count": 37,
   "metadata": {},
   "outputs": [
    {
     "data": {
      "text/plain": [
       "array([[2., 0., 0., ..., 0., 1., 0.],\n",
       "       [2., 0., 0., ..., 0., 1., 0.],\n",
       "       [1., 0., 0., ..., 0., 1., 0.],\n",
       "       ...,\n",
       "       [2., 0., 0., ..., 0., 1., 0.],\n",
       "       [2., 0., 0., ..., 0., 1., 0.],\n",
       "       [2., 0., 0., ..., 0., 1., 0.]])"
      ]
     },
     "execution_count": 37,
     "metadata": {},
     "output_type": "execute_result"
    }
   ],
   "source": [
    "#test\n",
    "transformer.fit_transform(df)"
   ]
  },
  {
   "cell_type": "markdown",
   "metadata": {},
   "source": [
    "### Split Data"
   ]
  },
  {
   "cell_type": "code",
   "execution_count": 38,
   "metadata": {},
   "outputs": [],
   "source": [
    "from sklearn.model_selection import train_test_split"
   ]
  },
  {
   "cell_type": "code",
   "execution_count": 39,
   "metadata": {},
   "outputs": [],
   "source": [
    "X_train, X_test, y_train, y_test= train_test_split(X,y,\n",
    "    test_size=.2,\n",
    "    stratify=y,\n",
    "    random_state = 1\n",
    ")"
   ]
  },
  {
   "cell_type": "markdown",
   "metadata": {},
   "source": [
    "### Benchmark Selection"
   ]
  },
  {
   "cell_type": "code",
   "execution_count": 40,
   "metadata": {},
   "outputs": [],
   "source": [
    "#library\n",
    "\n",
    "from sklearn.linear_model import LogisticRegression\n",
    "from sklearn.tree import DecisionTreeClassifier\n",
    "from sklearn.ensemble import RandomForestClassifier\n",
    "\n",
    "from sklearn.metrics import f1_score, classification_report,recall_score\n",
    "from sklearn.model_selection import KFold, cross_val_score"
   ]
  },
  {
   "cell_type": "code",
   "execution_count": 41,
   "metadata": {},
   "outputs": [
    {
     "name": "stdout",
     "output_type": "stream",
     "text": [
      "DT_model cross validation accuracy score: 0.7258 +/- 0.0135 (std) min: 0.7128, max: 0.744\n",
      "RF_model cross validation accuracy score: 0.7244 +/- 0.0147 (std) min: 0.7104, max: 0.7448\n",
      "LR_model cross validation accuracy score: 0.6938 +/- 0.0153 (std) min: 0.6728, max: 0.7096\n"
     ]
    }
   ],
   "source": [
    "# model\" yang akan digunakan:\n",
    "base_models = [(\"DT_model\", DecisionTreeClassifier(random_state = 2021)),\n",
    "               (\"RF_model\", RandomForestClassifier(random_state = 2021)),\n",
    "               (\"LR_model\", LogisticRegression(random_state = 2021))]\n",
    "\n",
    "# split data ke 4 kfold untuk cross validation\n",
    "# untuk memastikan distribusi data random, lakukan shuffle\n",
    "kfolds = 4 # 4 = 75% train, 25% validation\n",
    "split = KFold(n_splits=kfolds, shuffle=True, random_state=2021)\n",
    "\n",
    "# Preprocessing, fitting, prediksi untuk setiap model:\n",
    "for name, model in base_models:\n",
    "    # masukan preprocessing data ke pipeline:\n",
    "    model_steps = Pipeline(steps=[('preprocessor', transformer),\n",
    "                              ('model', model)])\n",
    "    \n",
    "    # cv score untuk setiap model\n",
    "    cv_results = cross_val_score(model_steps, \n",
    "                                 X, y, \n",
    "                                 cv=split,\n",
    "                                 scoring=\"accuracy\",\n",
    "                                 n_jobs=-1)\n",
    "    # output:\n",
    "    min_score = round(min(cv_results), 4)\n",
    "    max_score = round(max(cv_results), 4)\n",
    "    mean_score = round(np.mean(cv_results), 4)\n",
    "    std_dev = round(np.std(cv_results), 4)\n",
    "    print(f\"{name} cross validation accuracy score: {mean_score} +/- {std_dev} (std) min: {min_score}, max: {max_score}\")\n",
    "    "
   ]
  },
  {
   "cell_type": "markdown",
   "metadata": {},
   "source": [
    "Disini model Decision Tree memiliki akurasi cv tertinggi, tapi tipis dengan RF."
   ]
  },
  {
   "cell_type": "code",
   "execution_count": 42,
   "metadata": {},
   "outputs": [
    {
     "name": "stdout",
     "output_type": "stream",
     "text": [
      "DT_model cross validation precision score: 0.68 +/- 0.0229 (std) min: 0.6471, max: 0.7076\n",
      "RF_model cross validation precision score: 0.6797 +/- 0.0258 (std) min: 0.6427, max: 0.7068\n",
      "LR_model cross validation precision score: 0.6571 +/- 0.0241 (std) min: 0.6291, max: 0.6891\n"
     ]
    }
   ],
   "source": [
    "# model\" yang akan digunakan:\n",
    "base_models = [(\"DT_model\", DecisionTreeClassifier(random_state = 2021)),\n",
    "               (\"RF_model\", RandomForestClassifier(random_state = 2021)),\n",
    "               (\"LR_model\", LogisticRegression(random_state = 2021))]\n",
    "\n",
    "# split data ke 4 kfold untuk cross validation\n",
    "# untuk memastikan distribusi data random, lakukan shuffle\n",
    "kfolds = 4 # 4 = 75% train, 25% validation\n",
    "split = KFold(n_splits=kfolds, shuffle=True, random_state=2021)\n",
    "\n",
    "# Preprocessing, fitting, prediksi untuk setiap model:\n",
    "for name, model in base_models:\n",
    "    # masukan preprocessing data ke pipeline:\n",
    "    model_steps = Pipeline(steps=[('preprocessor', transformer),\n",
    "                              ('model', model)])\n",
    "    \n",
    "    # cv score untuk setiap model\n",
    "    cv_results = cross_val_score(model_steps, \n",
    "                                 X, y, \n",
    "                                 cv=split,\n",
    "                                 scoring=\"precision\",\n",
    "                                 n_jobs=-1)\n",
    "    # output:\n",
    "    min_score = round(min(cv_results), 4)\n",
    "    max_score = round(max(cv_results), 4)\n",
    "    mean_score = round(np.mean(cv_results), 4)\n",
    "    std_dev = round(np.std(cv_results), 4)\n",
    "    print(f\"{name} cross validation precision score: {mean_score} +/- {std_dev} (std) min: {min_score}, max: {max_score}\")\n",
    "    "
   ]
  },
  {
   "cell_type": "markdown",
   "metadata": {},
   "source": [
    "#### Precision\n",
    "\n",
    "Ada **2 jenis kesalahan** yang mungkin terjadi dalam model ML di studi kasus ini, yaitu:\n",
    ">* Model memprediksi user akan *cancel booking* (membatalkan pesanan), padahal sebenarnya/realisasinya user tidak membatalkan pesanan.\n",
    ">* Model memprediksi user tidak membatalkan pesanan, padahal sebenarnya/realisasinya user *cancel booking* (membatalkan pesanan).  \n",
    "\n",
    "Tapi berhubung di konteks bisnis perhotelan, apabila pengunjung diasumsikan tidak cancel, maka pihak hotel akan menyiapkan banyak hal untuk kedatangan mereka:\n",
    ">* Menghubungi pengunjung terkait kapan perkiraan datang ke hotel,\n",
    ">* Membersihkan, merapikan, dan menyiapkan kamar sesuai pesanan pengunjung,\n",
    ">* Menyiapkan makanan dan minuman untuk menyambut kedatangan pengunjung,\n",
    ">* Menolak pengunjung lain yang memesan kamar yang telah dipesan (*booked room*), dan\n",
    ">* Memberi layanan penjemputan di bandara/stasiun/terminal apabila diperlukan.  \n",
    "\n",
    "Karena ini, jenis kesalahan yang paling berpengaruh secara finansial adalah jenis prediksi is_canceled positif. (Tipe kesalahan pertama, di list diatas). Jadi saya memutuskan untuk memakai jenis scoring precision, dibandingkan recall atau f1_score atau akurasi.\n",
    "\n",
    "Tapi, model yang terbaik tetap tidak berubah, yaitu Decision Tree."
   ]
  },
  {
   "cell_type": "markdown",
   "metadata": {},
   "source": [
    "## Hyperparameter Tunning"
   ]
  },
  {
   "cell_type": "code",
   "execution_count": 43,
   "metadata": {},
   "outputs": [],
   "source": [
    "from sklearn.model_selection import GridSearchCV"
   ]
  },
  {
   "cell_type": "code",
   "execution_count": 44,
   "metadata": {},
   "outputs": [
    {
     "data": {
      "text/plain": [
       "GridSearchCV(cv=KFold(n_splits=5, random_state=None, shuffle=False),\n",
       "             estimator=Pipeline(steps=[('preprocess',\n",
       "                                        ColumnTransformer(transformers=[('num',\n",
       "                                                                         SimpleImputer(strategy='constant'),\n",
       "                                                                         ['total_customer',\n",
       "                                                                          'days_in_waiting_list',\n",
       "                                                                          'required_car_parking_spaces',\n",
       "                                                                          'total_of_special_requests']),\n",
       "                                                                        ('cat',\n",
       "                                                                         Pipeline(steps=[('imputer',\n",
       "                                                                                          SimpleImputer(fill_value='Unknown',...\n",
       "                                                                                          OneHotEncoder(handle_unknown='ignore'))]),\n",
       "                                                                         ['meal',\n",
       "                                                                          'market_segment',\n",
       "                                                                          'distribution_channel',\n",
       "                                                                          'reserved_room_type',\n",
       "                                                                          'deposit_type',\n",
       "                                                                          'customer_type',\n",
       "                                                                          'is_family'])])),\n",
       "                                       ('model', DecisionTreeClassifier())]),\n",
       "             n_jobs=-1,\n",
       "             param_grid={'model__criterion': ['gini', 'entropy'],\n",
       "                         'model__max_features': ['auto', 'sqrt'],\n",
       "                         'model__min_samples_leaf': [1, 2, 3, 4, 5],\n",
       "                         'model__min_samples_split': [2, 4, 6, 8]},\n",
       "             scoring='precision')"
      ]
     },
     "execution_count": 44,
     "metadata": {},
     "output_type": "execute_result"
    }
   ],
   "source": [
    "# lakukan gridsearch untuk decision tree classifier, dengan scoring precision karena alasan yang ditulis diatas.\n",
    "\n",
    "estimator = Pipeline([\n",
    "    ('preprocess', transformer),\n",
    "    ('model', DecisionTreeClassifier())])\n",
    "\n",
    "kfold = KFold(n_splits=5)\n",
    "\n",
    "parameters = {\n",
    "    'model__criterion' : ['gini', 'entropy'],\n",
    "    'model__min_samples_split' : [2,4,6,8],\n",
    "    'model__min_samples_leaf': [1,2,3,4,5],\n",
    "    'model__max_features' : ['auto', 'sqrt']\n",
    "}\n",
    "\n",
    "grid_search_dtc = GridSearchCV(estimator, param_grid=parameters,\n",
    "                          cv=5, scoring='precision', verbose=True, n_jobs =-1)\n",
    "\n",
    "grid= GridSearchCV(estimator,param_grid=parameters,cv=kfold,scoring='precision',n_jobs=-1)\n",
    "grid.fit(X_train,y_train)"
   ]
  },
  {
   "cell_type": "code",
   "execution_count": 45,
   "metadata": {},
   "outputs": [
    {
     "data": {
      "text/plain": [
       "{'model__criterion': 'entropy',\n",
       " 'model__max_features': 'sqrt',\n",
       " 'model__min_samples_leaf': 4,\n",
       " 'model__min_samples_split': 6}"
      ]
     },
     "execution_count": 45,
     "metadata": {},
     "output_type": "execute_result"
    }
   ],
   "source": [
    "# print best parameters dari grid search diatas\n",
    "grid.best_params_"
   ]
  },
  {
   "cell_type": "code",
   "execution_count": 46,
   "metadata": {},
   "outputs": [
    {
     "data": {
      "text/plain": [
       "Pipeline(steps=[('preprocess',\n",
       "                 ColumnTransformer(transformers=[('num',\n",
       "                                                  SimpleImputer(strategy='constant'),\n",
       "                                                  ['total_customer',\n",
       "                                                   'days_in_waiting_list',\n",
       "                                                   'required_car_parking_spaces',\n",
       "                                                   'total_of_special_requests']),\n",
       "                                                 ('cat',\n",
       "                                                  Pipeline(steps=[('imputer',\n",
       "                                                                   SimpleImputer(fill_value='Unknown',\n",
       "                                                                                 strategy='constant')),\n",
       "                                                                  ('onehot',\n",
       "                                                                   OneHotEncoder(handle_unknown='ignore'))]),\n",
       "                                                  ['meal', 'market_segment',\n",
       "                                                   'distribution_channel',\n",
       "                                                   'reserved_room_type',\n",
       "                                                   'deposit_type',\n",
       "                                                   'customer_type',\n",
       "                                                   'is_family'])])),\n",
       "                ('model',\n",
       "                 DecisionTreeClassifier(criterion='entropy',\n",
       "                                        max_features='sqrt', min_samples_leaf=4,\n",
       "                                        min_samples_split=6))])"
      ]
     },
     "execution_count": 46,
     "metadata": {},
     "output_type": "execute_result"
    }
   ],
   "source": [
    "grid.best_estimator_.fit(X_train,y_train)"
   ]
  },
  {
   "cell_type": "code",
   "execution_count": 47,
   "metadata": {},
   "outputs": [
    {
     "name": "stdout",
     "output_type": "stream",
     "text": [
      "              precision    recall  f1-score   support\n",
      "\n",
      "           0       0.75      0.71      0.73       540\n",
      "           1       0.68      0.72      0.70       460\n",
      "\n",
      "    accuracy                           0.72      1000\n",
      "   macro avg       0.72      0.72      0.72      1000\n",
      "weighted avg       0.72      0.72      0.72      1000\n",
      "\n"
     ]
    }
   ],
   "source": [
    "print(classification_report(y_test,grid.best_estimator_.predict(X_test)))"
   ]
  },
  {
   "cell_type": "code",
   "execution_count": 48,
   "metadata": {},
   "outputs": [],
   "source": [
    "# save model\n",
    "\n",
    "import pickle\n",
    "\n",
    "estimator=Pipeline([('preprocess',transformer),('model',DecisionTreeClassifier())])\n",
    "estimator.fit(X_train,y_train)\n",
    "\n",
    "pickle.dump(estimator,open('final_model.sav','wb'))"
   ]
  },
  {
   "cell_type": "code",
   "execution_count": 49,
   "metadata": {},
   "outputs": [],
   "source": [
    "# save hasil tunning\n",
    "\n",
    "model_final=grid.best_estimator_.fit(X_train,y_train)\n",
    "\n",
    "pickle.dump(model_final,open('final_tunning.sav','wb'))"
   ]
  },
  {
   "cell_type": "markdown",
   "metadata": {},
   "source": [
    "### Summary dari Tuning\n",
    "\n",
    "Setelah dilakukan tuning, bisa dilihat bahwa performa naik secara kecil dari dari 0.68 ke 0.69."
   ]
  },
  {
   "cell_type": "markdown",
   "metadata": {},
   "source": [
    "## Kesimpulan Akhir\n",
    "\n",
    "Dari 3 model yang dicoba, model yang memiliki akurasi dan presisi tertinggi adalah decision tree, maka dari itu saya memilih decision tree untuk ditune lagi hyperparameternya. Dari situ model mencapai kenaikan yang cukup kecil. Tapi dibanding model yang lain saya tetap memilih model decision tree untuk memprediksi booking cancellation. "
   ]
  }
 ],
 "metadata": {
  "kernelspec": {
   "display_name": "Python 3",
   "language": "python",
   "name": "python3"
  },
  "language_info": {
   "codemirror_mode": {
    "name": "ipython",
    "version": 3
   },
   "file_extension": ".py",
   "mimetype": "text/x-python",
   "name": "python",
   "nbconvert_exporter": "python",
   "pygments_lexer": "ipython3",
   "version": "3.8.3"
  }
 },
 "nbformat": 4,
 "nbformat_minor": 4
}
